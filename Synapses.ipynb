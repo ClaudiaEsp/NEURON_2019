{
 "cells": [
  {
   "cell_type": "markdown",
   "metadata": {},
   "source": [
    "<H1>Synapses</H1>\n",
    "<P>Simulation of a chemical synapse between principal cells</P> "
   ]
  },
  {
   "cell_type": "code",
   "execution_count": null,
   "metadata": {},
   "outputs": [],
   "source": [
    "%pylab inline"
   ]
  },
  {
   "cell_type": "code",
   "execution_count": null,
   "metadata": {},
   "outputs": [],
   "source": [
    "from neuron import h\n",
    "h.load_file('stdrun.hoc') # using neuron library used by the iv graphics"
   ]
  },
  {
   "cell_type": "markdown",
   "metadata": {},
   "source": [
    "<H3>Model specification </H3>"
   ]
  },
  {
   "cell_type": "markdown",
   "metadata": {},
   "source": [
    "<P> 1. Topology and biophysical properties of a single-compartment</P>"
   ]
  },
  {
   "cell_type": "code",
   "execution_count": null,
   "metadata": {
    "collapsed": true
   },
   "outputs": [],
   "source": [
    "class Cell:\n",
    "    def __init__(self, myname):\n",
    "        \"\"\"\n",
    "        Create a single compartiment with Hodgkin-Huxley \n",
    "        conductances.\n",
    "        \"\"\"\n",
    "        self.soma = h.Section(name = myname)\n",
    "        self.soma.diam = 3.57 # PI*R^2 area 10 um^2\n",
    "        \n",
    "        self.soma.insert('pas') # RC basic circuit\n",
    "        self.soma.e_pas = -65 # resting membrane potential\n",
    "\n",
    "        self.soma.insert('hh') # HH conductances\n",
    "        "
   ]
  },
  {
   "cell_type": "code",
   "execution_count": null,
   "metadata": {},
   "outputs": [],
   "source": [
    "#create two cells\n",
    "neuron_pre = Cell(myname = 'pre')\n",
    "neuron_post = Cell(myname = 'post')"
   ]
  },
  {
   "cell_type": "markdown",
   "metadata": {},
   "source": [
    "<H3>Instrumentation</H3>"
   ]
  },
  {
   "cell_type": "markdown",
   "metadata": {},
   "source": [
    "<P> 2. Stimulate the presynaptic cell</P>"
   ]
  },
  {
   "cell_type": "code",
   "execution_count": null,
   "metadata": {
    "collapsed": true
   },
   "outputs": [],
   "source": [
    "stim = h.IClamp(0.5,neuron_pre.soma) \n",
    "stim.amp = 1 # in nA\n",
    "stim.delay = 5 # in ms\n",
    "stim.dur = 0.5 # in ms"
   ]
  },
  {
   "cell_type": "markdown",
   "metadata": {},
   "source": [
    "<P> 3. Create postsynaptic side of the synapse </P>"
   ]
  },
  {
   "cell_type": "code",
   "execution_count": null,
   "metadata": {
    "collapsed": true
   },
   "outputs": [],
   "source": [
    "postsyn = h.ExpSyn(neuron_post.soma(0.5))\n",
    "postsyn.tau = .1 # decay time constant\n",
    "postsyn.e = 0 # reversal potential, by default is set to 0\n"
   ]
  },
  {
   "cell_type": "markdown",
   "metadata": {},
   "source": [
    "<P> 4. Create the presynaptic side (transmission delay, and synaptic weight) <P>"
   ]
  },
  {
   "cell_type": "code",
   "execution_count": null,
   "metadata": {},
   "outputs": [],
   "source": [
    "syn= h.NetCon(neuron_pre.soma(0.5)._ref_v, postsyn, sec = neuron_pre.soma)\n",
    "syn.weight[0] = 5"
   ]
  },
  {
   "cell_type": "code",
   "execution_count": null,
   "metadata": {
    "collapsed": true
   },
   "outputs": [],
   "source": [
    "syn.delay = 2.5 # in ms (default 1)"
   ]
  },
  {
   "cell_type": "markdown",
   "metadata": {},
   "source": [
    "<H2>Simulation control</H3>"
   ]
  },
  {
   "cell_type": "markdown",
   "metadata": {},
   "source": [
    "<p> 5. Record, run and plot"
   ]
  },
  {
   "cell_type": "code",
   "execution_count": null,
   "metadata": {},
   "outputs": [],
   "source": [
    "t,v1,v2 = h.Vector(), h.Vector(), h.Vector()\n",
    "t.record(h._ref_t)\n",
    "v1.record(neuron_pre.soma(0.5)._ref_v)\n",
    "v2.record(neuron_post.soma(0.5)._ref_v)\n",
    "h.finitialize(-65)\n",
    "h.continuerun(20)"
   ]
  },
  {
   "cell_type": "code",
   "execution_count": null,
   "metadata": {},
   "outputs": [],
   "source": [
    "plt.plot(t,v1,t,v2)\n",
    "plt.xlabel('Time (ms)'), plt.ylabel('Voltage (mV)')\n",
    "plt.show()"
   ]
  },
  {
   "cell_type": "code",
   "execution_count": null,
   "metadata": {
    "collapsed": true
   },
   "outputs": [],
   "source": [
    "# delete Hogdkin-Huxley conductances in the post-synaptic neuron\n",
    "neuron_post.soma.gnabar_hh = 0.0\n",
    "neuron_post.soma.gkbar_hh = 0.0"
   ]
  },
  {
   "cell_type": "code",
   "execution_count": null,
   "metadata": {},
   "outputs": [],
   "source": [
    "def myrun(tstop):\n",
    "    \"\"\"\n",
    "    Prepare runs the simulation until tstop\n",
    "    and plot voltages from neuron_pre and\n",
    "    neuron_post\n",
    "    \"\"\"\n",
    "    # create hoc vectors\n",
    "    t,v1,v2 = h.Vector(), h.Vector(), h.Vector()\n",
    "    \n",
    "    t.record(h._ref_t) # simulation time\n",
    "    \n",
    "    v1.record( neuron_pre.soma(0.5)._ref_v ) # voltage neuron_pre\n",
    "    v2.record( neuron_post.soma(0.5)._ref_v ) # voltage neuron_post\n",
    "    h.finitialize(-65)\n",
    "    h.continuerun(tstop)\n",
    "    \n",
    "    # plot voltage vs time for both neurons\n",
    "    plt.plot(t, v1,label='pre', color = 'darkblue')\n",
    "    plt.plot(t, v2, label='post', color = 'orange')\n",
    "    plt.legend()\n",
    "    plt.xlabel('Time (ms)'), plt.ylabel('Voltage (mV)')\n",
    "    plt.show()\n",
    "    "
   ]
  },
  {
   "cell_type": "code",
   "execution_count": null,
   "metadata": {},
   "outputs": [],
   "source": [
    "myrun(tstop = 20)"
   ]
  },
  {
   "cell_type": "code",
   "execution_count": null,
   "metadata": {
    "collapsed": true
   },
   "outputs": [],
   "source": []
  }
 ],
 "metadata": {
  "kernelspec": {
   "display_name": "Python 3",
   "language": "python",
   "name": "python3"
  },
  "language_info": {
   "codemirror_mode": {
    "name": "ipython",
    "version": 3
   },
   "file_extension": ".py",
   "mimetype": "text/x-python",
   "name": "python",
   "nbconvert_exporter": "python",
   "pygments_lexer": "ipython3",
   "version": "3.6.1"
  }
 },
 "nbformat": 4,
 "nbformat_minor": 2
}
