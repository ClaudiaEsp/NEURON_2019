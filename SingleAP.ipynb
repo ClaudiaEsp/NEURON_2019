{
 "cells": [
  {
   "cell_type": "markdown",
   "metadata": {},
   "source": [
    "<H1>AP Train</H1>\n",
    "<P>Simulation of a neuron as a single electrical compartment and action potential initiation</P> "
   ]
  },
  {
   "cell_type": "code",
   "execution_count": 1,
   "metadata": {},
   "outputs": [
    {
     "name": "stdout",
     "output_type": "stream",
     "text": [
      "Populating the interactive namespace from numpy and matplotlib\n"
     ]
    }
   ],
   "source": [
    "%pylab inline"
   ]
  },
  {
   "cell_type": "code",
   "execution_count": 2,
   "metadata": {},
   "outputs": [
    {
     "data": {
      "text/plain": [
       "1.0"
      ]
     },
     "execution_count": 2,
     "metadata": {},
     "output_type": "execute_result"
    }
   ],
   "source": [
    "from neuron import h\n",
    "h.load_file('stdrun.hoc') # using neuron library used by the iv graphics"
   ]
  },
  {
   "cell_type": "markdown",
   "metadata": {},
   "source": [
    "<H2>Create single compartment</H2>\n",
    "<P> Topology and biophysical properties of a single-compartment</P>"
   ]
  },
  {
   "cell_type": "code",
   "execution_count": 3,
   "metadata": {
    "collapsed": true
   },
   "outputs": [],
   "source": [
    "soma = h.Section(name = 'soma')"
   ]
  },
  {
   "cell_type": "code",
   "execution_count": 4,
   "metadata": {},
   "outputs": [
    {
     "data": {
      "text/plain": [
       "soma"
      ]
     },
     "execution_count": 4,
     "metadata": {},
     "output_type": "execute_result"
    }
   ],
   "source": [
    "# morphology\n",
    "soma.L = soma.diam = 25.55 # um\n",
    "soma.Ra = 125 # KOhms\n",
    "\n",
    "# passive properties\n",
    "soma.insert('pas')\n",
    "soma.g_pas = 1/150000 # 150 MOhms\n",
    "soma.e_pas = -65 # in mV\n",
    "\n",
    "# active Hodgkin-Huxley Na and K conductances\n",
    "soma.insert('hh')"
   ]
  },
  {
   "cell_type": "code",
   "execution_count": 5,
   "metadata": {
    "collapsed": true
   },
   "outputs": [],
   "source": [
    "soma.gnabar_hh =0.12"
   ]
  },
  {
   "cell_type": "markdown",
   "metadata": {},
   "source": [
    "<H2>Create instrumentation</H2>\n",
    "<P>One electrode in the center of the compartment to inject current<P>"
   ]
  },
  {
   "cell_type": "code",
   "execution_count": 7,
   "metadata": {
    "collapsed": true
   },
   "outputs": [],
   "source": [
    "stim = h.IClamp(0.5, sec=soma)\n",
    "stim.dur = 1\n",
    "stim.amp = 2\n",
    "stim.delay = 10"
   ]
  },
  {
   "cell_type": "markdown",
   "metadata": {},
   "source": [
    "<H2>Define a function to perform the simulation</H2>"
   ]
  },
  {
   "cell_type": "code",
   "execution_count": 8,
   "metadata": {
    "collapsed": true
   },
   "outputs": [],
   "source": [
    "def mysimulation(tstop):\n",
    "    \"\"\"\n",
    "    Simulates the membrane potential \n",
    "    \n",
    "    Arguments:\n",
    "    tstop  -- simulation time (i.e h.tstop)\n",
    "    \n",
    "    Returns:\n",
    "    time and voltage as NumPy arrays\n",
    "    \"\"\"\n",
    "    h.v_init = -65 # mv\n",
    "    h.tstop = tstop # in ms\n",
    "    \n",
    "    voltage, time = h.Vector(), h.Vector()\n",
    "\n",
    "    voltage.record( soma(0.5)._ref_v, sec=soma)\n",
    "    time.record(h._ref_t)\n",
    "    h.run()\n",
    "    \n",
    "    plt.plot( np.array(time), np.array(voltage), color='#34578c' )\n",
    "    plt.xlabel('Time(ms)'), plt.ylabel('Voltage (mV)')"
   ]
  },
  {
   "cell_type": "code",
   "execution_count": 9,
   "metadata": {},
   "outputs": [
    {
     "name": "stderr",
     "output_type": "stream",
     "text": [
      "C:\\Users\\cespinoza\\AppData\\Local\\Continuum\\Anaconda3\\envs\\ipykernel_py2\\lib\\site-packages\\matplotlib\\figure.py:1743: UserWarning: This figure includes Axes that are not compatible with tight_layout, so its results might be incorrect.\n",
      "  warnings.warn(\"This figure includes Axes that are not \"\n"
     ]
    },
    {
     "data": {
      "image/png": "[encoded data removed]",
      "text/plain": [
       "<matplotlib.figure.Figure at 0x779e2b0>"
      ]
     },
     "metadata": {},
     "output_type": "display_data"
    }
   ],
   "source": [
    "stim.amp = 2\n",
    "mysimulation(50)"
   ]
  },
  {
   "cell_type": "code",
   "execution_count": null,
   "metadata": {
    "collapsed": true
   },
   "outputs": [],
   "source": []
  }
 ],
 "metadata": {
  "kernelspec": {
   "display_name": "Python 2",
   "language": "python",
   "name": "python2"
  },
  "language_info": {
   "codemirror_mode": {
    "name": "ipython",
    "version": 2
   },
   "file_extension": ".py",
   "mimetype": "text/x-python",
   "name": "python",
   "nbconvert_exporter": "python",
   "pygments_lexer": "ipython2",
   "version": "2.7.13"
  }
 },
 "nbformat": 4,
 "nbformat_minor": 1
}
