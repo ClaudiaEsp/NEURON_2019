{
 "cells": [
  {
   "cell_type": "markdown",
   "metadata": {},
   "source": [
    "<H1>Branching cell</H1>\n",
    "<P>Simulation of basic morphologies</P> "
   ]
  },
  {
   "cell_type": "code",
   "execution_count": 22,
   "metadata": {},
   "outputs": [
    {
     "name": "stdout",
     "output_type": "stream",
     "text": [
      "Populating the interactive namespace from numpy and matplotlib\n"
     ]
    }
   ],
   "source": [
    "%pylab inline"
   ]
  },
  {
   "cell_type": "code",
   "execution_count": 23,
   "metadata": {},
   "outputs": [
    {
     "data": {
      "text/plain": [
       "1.0"
      ]
     },
     "execution_count": 23,
     "metadata": {},
     "output_type": "execute_result"
    }
   ],
   "source": [
    "from neuron import h\n",
    "h.load_file('stdrun.hoc') # using neuron library used by the iv graphics"
   ]
  },
  {
   "cell_type": "markdown",
   "metadata": {},
   "source": [
    "<P> 1. Geometry"
   ]
  },
  {
   "cell_type": "code",
   "execution_count": 24,
   "metadata": {},
   "outputs": [],
   "source": [
    "# Create sections\n",
    "soma = h.Section(name ='soma')\n",
    "dend = h.Section(name ='dend')\n",
    "axon = h.Section(name ='axon')"
   ]
  },
  {
   "cell_type": "code",
   "execution_count": 25,
   "metadata": {},
   "outputs": [
    {
     "data": {
      "text/plain": [
       "axon"
      ]
     },
     "execution_count": 25,
     "metadata": {},
     "output_type": "execute_result"
    }
   ],
   "source": [
    "# Connect sections\n",
    "dend.connect(soma,1,0)\n",
    "axon.connect(soma,0,1)"
   ]
  },
  {
   "cell_type": "code",
   "execution_count": 38,
   "metadata": {
    "collapsed": true
   },
   "outputs": [],
   "source": [
    "# Create segments\n",
    "axon.nseg = 3\n",
    "dend.nseg = 5"
   ]
  },
  {
   "cell_type": "code",
   "execution_count": 39,
   "metadata": {},
   "outputs": [
    {
     "name": "stdout",
     "output_type": "stream",
     "text": [
      "|-----|       dend(0-1)\n",
      "|----------|       axon(1-0)\n",
      "|----------|       axon(1-0)\n",
      "|-|       soma(0-1)\n",
      "   `----|       dend(0-1)\n",
      " `--|       axon(1-0)\n",
      "\n"
     ]
    },
    {
     "data": {
      "text/plain": [
       "1.0"
      ]
     },
     "execution_count": 39,
     "metadata": {},
     "output_type": "execute_result"
    }
   ],
   "source": [
    "h.topology()"
   ]
  },
  {
   "cell_type": "markdown",
   "metadata": {},
   "source": [
    "<P> Checking and modifying basic morphological parameters of the segments"
   ]
  },
  {
   "cell_type": "code",
   "execution_count": 40,
   "metadata": {},
   "outputs": [
    {
     "name": "stdout",
     "output_type": "stream",
     "text": [
      "0.1 500.0 1.0\n",
      "0.30000000000000004 500.0 1.0\n",
      "0.5 500.0 1.0\n",
      "0.7 500.0 1.0\n",
      "0.8999999999999999 500.0 1.0\n"
     ]
    }
   ],
   "source": [
    "for seg in dend:\n",
    "    print (seg.x, seg.diam, seg.cm) "
   ]
  },
  {
   "cell_type": "code",
   "execution_count": null,
   "metadata": {
    "collapsed": true
   },
   "outputs": [],
   "source": [
    "# This returns a tuple with the corresponding values \n",
    "#(ie, location, diameter and capacitance) of the different segments."
   ]
  },
  {
   "cell_type": "code",
   "execution_count": 41,
   "metadata": {
    "collapsed": true
   },
   "outputs": [],
   "source": [
    "den_seg = dend(.5)"
   ]
  },
  {
   "cell_type": "code",
   "execution_count": 42,
   "metadata": {},
   "outputs": [
    {
     "data": {
      "text/plain": [
       "500.0"
      ]
     },
     "execution_count": 42,
     "metadata": {},
     "output_type": "execute_result"
    }
   ],
   "source": [
    "den_seg.diam"
   ]
  },
  {
   "cell_type": "code",
   "execution_count": 43,
   "metadata": {
    "collapsed": true
   },
   "outputs": [],
   "source": [
    "# create a vector with all the segments of the dendrite"
   ]
  },
  {
   "cell_type": "code",
   "execution_count": 48,
   "metadata": {},
   "outputs": [],
   "source": [
    "den_nseg=[] # create an empty list of segments\n",
    "for nseg in dend:\n",
    "    den_nseg.append(nseg.x)"
   ]
  },
  {
   "cell_type": "code",
   "execution_count": 54,
   "metadata": {},
   "outputs": [
    {
     "data": {
      "text/plain": [
       "500.0"
      ]
     },
     "execution_count": 54,
     "metadata": {},
     "output_type": "execute_result"
    }
   ],
   "source": [
    "dend(den_nseg[0]).diam"
   ]
  },
  {
   "cell_type": "code",
   "execution_count": 55,
   "metadata": {},
   "outputs": [],
   "source": [
    "dend(den_nseg[0]).diam = 10"
   ]
  },
  {
   "cell_type": "markdown",
   "metadata": {},
   "source": [
    "<P> 2. Biophysics"
   ]
  },
  {
   "cell_type": "markdown",
   "metadata": {},
   "source": [
    "gnabar_hh: Maximum specific sodium channel conductance [Default value = 0.120 S/cm^2] \n",
    "gkbar_hh: Maximum specific potassium channel conductance [Default value = 0.036 S/cm^2] \n",
    "gl_hh: Maximum specific leakage conductance [Default value = 0.0003 S/cm^2] \n",
    "ena: Reversal potential for the sodium channel [Default value = 50 mV] \n",
    "ek: Reversal potential for the potassium channel [Default value = -77 mV] \n",
    "el_hh: Reversal potential for the leakage channel [Default value = -54.3 mV]"
   ]
  },
  {
   "cell_type": "code",
   "execution_count": 77,
   "metadata": {},
   "outputs": [],
   "source": [
    "for sec in h.allsec():\n",
    "    sec.Ra = 100\n",
    "    sec.cm = 1"
   ]
  },
  {
   "cell_type": "code",
   "execution_count": 35,
   "metadata": {},
   "outputs": [
    {
     "data": {
      "text/plain": [
       "axon"
      ]
     },
     "execution_count": 35,
     "metadata": {},
     "output_type": "execute_result"
    }
   ],
   "source": [
    "axon.insert('hh')"
   ]
  },
  {
   "cell_type": "code",
   "execution_count": 69,
   "metadata": {
    "collapsed": true
   },
   "outputs": [],
   "source": [
    "for nseg in axon:\n",
    "    nseg.hh.gnabar = 0.12"
   ]
  },
  {
   "cell_type": "code",
   "execution_count": null,
   "metadata": {
    "collapsed": true
   },
   "outputs": [],
   "source": [
    "# It is the same of axon.gnabar_hh = 0.12 \n",
    "#but the last one allow us to access to independent values"
   ]
  },
  {
   "cell_type": "code",
   "execution_count": 71,
   "metadata": {},
   "outputs": [],
   "source": [
    "axon_gnabar = [nseg.hh.gnabar for nseg in axon]"
   ]
  },
  {
   "cell_type": "code",
   "execution_count": 70,
   "metadata": {
    "collapsed": true
   },
   "outputs": [],
   "source": [
    "# List comprehension in python can also be used to create a python list of all values \n",
    "# of a given property of a segment"
   ]
  },
  {
   "cell_type": "code",
   "execution_count": 72,
   "metadata": {},
   "outputs": [
    {
     "data": {
      "text/plain": [
       "[0.12, 0.12, 0.12]"
      ]
     },
     "execution_count": 72,
     "metadata": {},
     "output_type": "execute_result"
    }
   ],
   "source": [
    "axon_gnabar"
   ]
  },
  {
   "cell_type": "code",
   "execution_count": 79,
   "metadata": {},
   "outputs": [
    {
     "data": {
      "text/plain": [
       "soma"
      ]
     },
     "execution_count": 79,
     "metadata": {},
     "output_type": "execute_result"
    }
   ],
   "source": [
    "dend.insert('pas')\n",
    "soma.insert('pas')"
   ]
  },
  {
   "cell_type": "code",
   "execution_count": 83,
   "metadata": {},
   "outputs": [],
   "source": [
    "for seg in soma:\n",
    "    seg.pas.g = 0.0002\n",
    "    seg.pas.e = -65"
   ]
  }
 ],
 "metadata": {
  "kernelspec": {
   "display_name": "Python 3",
   "language": "python",
   "name": "python3"
  },
  "language_info": {
   "codemirror_mode": {
    "name": "ipython",
    "version": 3
   },
   "file_extension": ".py",
   "mimetype": "text/x-python",
   "name": "python",
   "nbconvert_exporter": "python",
   "pygments_lexer": "ipython3",
   "version": "3.6.1"
  }
 },
 "nbformat": 4,
 "nbformat_minor": 2
}
